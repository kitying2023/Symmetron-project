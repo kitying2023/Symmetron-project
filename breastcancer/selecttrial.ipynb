{
 "cells": [
  {
   "cell_type": "code",
   "execution_count": 35,
   "metadata": {},
   "outputs": [
    {
     "name": "stdout",
     "output_type": "stream",
     "text": [
      "['NCT00679783', 'NCT02898207', 'NCT02711137', 'NCT04171700', 'NCT02000622', 'NCT03330847', 'NCT03840200', 'NCT02401347', 'NCT03499353', 'NCT02163694', 'NCT02561832', 'NCT01078662', 'NCT02734004', 'NCT01818063', 'NCT03330405', 'NCT01506609', 'NCT03575065', 'NCT03167619', 'NCT01286987', 'NCT03343054', 'NCT01989546', 'NCT04690855', 'NCT03329937', 'NCT02032823', 'NCT01905592', 'NCT01116648', 'NCT03286842', 'NCT02657889', 'NCT02034916', 'NCT02282020', 'NCT02282345', 'NCT01945775', 'NCT01306032', 'NCT00494234', 'NCT03875313']\n",
      "35\n"
     ]
    }
   ],
   "source": [
    "import requests\n",
    "import urllib.parse\n",
    "\n",
    "\n",
    "condition = \"Breast cancer* OR breast neoplasm* OR breast carcinoma*\"\n",
    "intervention = \"olaparib OR azd 2281 OR rucaparib OR ag014699 OR pf 01367338 OR co 388 OR veliparib OR abt 888 OR niraparib OR mk 4827 OR talazoparib OR bmn 673 or e7449 OR e7016 OR abt-767 OR bgb-290 OR KR-33889\"\n",
    "aggFilters = \"results:with,status:act com ter,studyType:int\"\n",
    "pageSize = 100\n",
    "#status = \"COMPLETED\"\n",
    "\n",
    "params = {\n",
    "    \"query.cond\": condition,\n",
    "    \"query.intr\": intervention,\n",
    "    # \"filter.overallStatus\": status,\n",
    "    \"pageSize\": pageSize,\n",
    "    \"aggFilters\": aggFilters\n",
    "}\n",
    "\n",
    "querystring = urllib.parse.urlencode(params)\n",
    "\n",
    "url = f\"https://clinicaltrials.gov/api/v2/studies?{querystring}\"\n",
    "\n",
    "result = requests.get(url)\n",
    "\n",
    "data = result.json()\n",
    "\n",
    "interventional = filter(lambda x: x[\"protocolSection\"][\"designModule\"][\"studyType\"] == \"INTERVENTIONAL\", data[\"studies\"])\n",
    "nctIds = list(map(lambda x: x[\"protocolSection\"][\"identificationModule\"][\"nctId\"], interventional))\n",
    "\n",
    "print(nctIds)\n",
    "print(len(data[\"studies\"]))"
   ]
  }
 ],
 "metadata": {
  "kernelspec": {
   "display_name": "Python 3",
   "language": "python",
   "name": "python3"
  },
  "language_info": {
   "codemirror_mode": {
    "name": "ipython",
    "version": 3
   },
   "file_extension": ".py",
   "mimetype": "text/x-python",
   "name": "python",
   "nbconvert_exporter": "python",
   "pygments_lexer": "ipython3",
   "version": "3.11.5"
  }
 },
 "nbformat": 4,
 "nbformat_minor": 2
}
