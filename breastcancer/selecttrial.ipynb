{
 "cells": [
  {
   "cell_type": "code",
   "execution_count": 8,
   "metadata": {},
   "outputs": [
    {
     "name": "stdout",
     "output_type": "stream",
     "text": [
      "['NCT02391350', 'NCT02355275', 'NCT00285649', 'NCT01362049', 'NCT03644927', 'NCT00939107', 'NCT01312233', 'NCT01221233', 'NCT02308189', 'NCT00118430', 'NCT01918189', 'NCT02353442', 'NCT03504085', 'NCT03502187', 'NCT01559948', 'NCT02327325', 'NCT02469077', 'NCT00786864', 'NCT02503410', 'NCT03415464', 'NCT02132910', 'NCT03816007', 'NCT01726803', 'NCT01841216', 'NCT03554746', 'NCT02027623', 'NCT03046472', 'NCT02864732', 'NCT02524158', 'NCT00561652', 'NCT02122445', 'NCT03484403', 'NCT01539863', 'NCT01653782', 'NCT03603028', 'NCT02868034', 'NCT03360344', 'NCT04468074', 'NCT00803413', 'NCT03888235', 'NCT04209335', 'NCT01611792', 'NCT02645760', 'NCT02938169', 'NCT01374269']\n",
      "45\n"
     ]
    }
   ],
   "source": [
    "import requests\n",
    "import urllib.parse\n",
    "\n",
    "\n",
    "condition = \"Back pain\"\n",
    "intervention = \"yoga OR tai chi OR exercise\"\n",
    "aggFilters = \"results:with,status:act com ter,studyType:int\"\n",
    "pageSize = 100\n",
    "#status = \"COMPLETED\"\n",
    "\n",
    "params = {\n",
    "    \"query.cond\": condition,\n",
    "    \"query.intr\": intervention,\n",
    "    # \"filter.overallStatus\": status,\n",
    "    \"pageSize\": pageSize,\n",
    "    \"aggFilters\": aggFilters\n",
    "}\n",
    "\n",
    "querystring = urllib.parse.urlencode(params)\n",
    "\n",
    "url = f\"https://clinicaltrials.gov/api/v2/studies?{querystring}\"\n",
    "\n",
    "result = requests.get(url)\n",
    "\n",
    "data = result.json()\n",
    "\n",
    "interventional = filter(lambda x: x[\"protocolSection\"][\"designModule\"][\"studyType\"] == \"INTERVENTIONAL\", data[\"studies\"])\n",
    "nctIds = list(map(lambda x: x[\"protocolSection\"][\"identificationModule\"][\"nctId\"], interventional))\n",
    "\n",
    "print(nctIds)\n",
    "print(len(data[\"studies\"]))"
   ]
  }
 ],
 "metadata": {
  "kernelspec": {
   "display_name": "Python 3",
   "language": "python",
   "name": "python3"
  },
  "language_info": {
   "codemirror_mode": {
    "name": "ipython",
    "version": 3
   },
   "file_extension": ".py",
   "mimetype": "text/x-python",
   "name": "python",
   "nbconvert_exporter": "python",
   "pygments_lexer": "ipython3",
   "version": "3.11.5"
  }
 },
 "nbformat": 4,
 "nbformat_minor": 2
}
